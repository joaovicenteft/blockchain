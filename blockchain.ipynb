{
  "nbformat": 4,
  "nbformat_minor": 0,
  "metadata": {
    "colab": {
      "name": "blockchain.ipynb",
      "provenance": []
    },
    "kernelspec": {
      "name": "python3",
      "display_name": "Python 3"
    }
  },
  "cells": [
    {
      "cell_type": "code",
      "metadata": {
        "colab": {
          "base_uri": "https://localhost:8080/"
        },
        "id": "S8mhJnMAUPC0",
        "outputId": "f2a67f15-c7c7-4c13-e363-35ec10aa1601"
      },
      "source": [
        "!pip3 install requests"
      ],
      "execution_count": 12,
      "outputs": [
        {
          "output_type": "stream",
          "text": [
            "Requirement already satisfied: requests in /usr/local/lib/python3.6/dist-packages (2.23.0)\n",
            "Requirement already satisfied: certifi>=2017.4.17 in /usr/local/lib/python3.6/dist-packages (from requests) (2020.12.5)\n",
            "Requirement already satisfied: chardet<4,>=3.0.2 in /usr/local/lib/python3.6/dist-packages (from requests) (3.0.4)\n",
            "Requirement already satisfied: idna<3,>=2.5 in /usr/local/lib/python3.6/dist-packages (from requests) (2.10)\n",
            "Requirement already satisfied: urllib3!=1.25.0,!=1.25.1,<1.26,>=1.21.1 in /usr/local/lib/python3.6/dist-packages (from requests) (1.24.3)\n"
          ],
          "name": "stdout"
        }
      ]
    },
    {
      "cell_type": "code",
      "metadata": {
        "id": "dIKbIMu8TkD4"
      },
      "source": [
        "import hashlib\r\n",
        "import json\r\n",
        "from time import time\r\n",
        "import urllib.request\r\n",
        "\r\n",
        "import requests\r\n",
        "from flask import Flask, jsonify, request"
      ],
      "execution_count": 13,
      "outputs": []
    },
    {
      "cell_type": "code",
      "metadata": {
        "id": "ZCw_hjoFeJWv"
      },
      "source": [
        "class Smart_Blockchain:\r\n",
        "    def __init__(self):\r\n",
        "        self.current_transactions = []\r\n",
        "        self.chain = []\r\n",
        "        self.nodes = set()\r\n",
        "\r\n",
        "        # Create the genesis block\r\n",
        "        self.new_block(previous_hash='1')\r\n",
        "\r\n",
        "\r\n",
        "    def register_node(self, address):\r\n",
        "        \"\"\"\r\n",
        "        Add a new node to the list of nodes\r\n",
        "        :param address: Address of node. Eg. 'http://192.168.0.5:5000'\r\n",
        "        \"\"\"\r\n",
        "\r\n",
        "        parsed_url = urlparse(address)\r\n",
        "        if parsed_url.netloc:\r\n",
        "            self.nodes.add(parsed_url.netloc)\r\n",
        "        elif parsed_url.path:\r\n",
        "            # Accepts an URL without scheme like '192.168.0.5:5000'.\r\n",
        "            self.nodes.add(parsed_url.path)\r\n",
        "        else:\r\n",
        "            raise ValueError('Invalid URL')\r\n",
        "\r\n",
        "\r\n",
        "    def smart_chain(self):\r\n",
        "        \"\"\"\r\n",
        "        All nodes can receive the smart_chain\r\n",
        "        \"\"\"\r\n",
        "        \r\n",
        "        schain = None       \r\n",
        "        response = requests.get(f'http://127.0.0.1:5000/chain')\r\n",
        "        \r\n",
        "        if response.status_code == 200:\r\n",
        "            chain = response.json()['chain']                \r\n",
        "            schain = chain\r\n",
        "\r\n",
        "        # Replace our chain\r\n",
        "        if schain:\r\n",
        "            self.chain = schain\r\n",
        "            return True\r\n",
        "\r\n",
        "        return False\r\n",
        "\r\n",
        "\r\n",
        "    def new_block(self, previous_hash):\r\n",
        "        \"\"\"\r\n",
        "        Create a new Block in the Smart Blockchain\r\n",
        "        :param previous_hash: Hash of previous Block\r\n",
        "        :return: New Block\r\n",
        "        \"\"\"\r\n",
        "\r\n",
        "        block = {\r\n",
        "            'index': len(self.chain) + 1,\r\n",
        "            'timestamp': time(),\r\n",
        "            'transactions': self.current_transactions,\r\n",
        "            'previous_hash': previous_hash or self.hash(self.chain[-1]),\r\n",
        "        }\r\n",
        "\r\n",
        "        # Reset the current list of transactions\r\n",
        "        self.current_transactions = []\r\n",
        "\r\n",
        "        self.chain.append(block)\r\n",
        "        return block\r\n",
        "\r\n",
        "\r\n",
        "    def new_transaction(self, sender, amount, recipient):\r\n",
        "        \"\"\"\r\n",
        "        Creates a new transaction to go into the next mined Block\r\n",
        "        :param sender: Address of the Sender\r\n",
        "        :param amount_send: The amount sent by the sender\r\n",
        "        :param bpsc: Address of the Smart contract (bpsc)\r\n",
        "        :param amount_bpsc: The amount received by bpsc (Transaction fees)\r\n",
        "        :param recipient: Address of the Recipient\r\n",
        "        :param amount_receive: The amount received by the recipient\r\n",
        "        :return: The index of the Block that will hold this transaction\r\n",
        "        \"\"\"\r\n",
        "        self.current_transactions.append({\r\n",
        "            'sender': sender,\r\n",
        "            'amount_send': amount,\r\n",
        "             \r\n",
        "            'bpsc': 'bpsc_wallet_address', # Block Producer Smart Contract (bpsc)\r\n",
        "            'amount_bpsc': amount * 0.00005, # Transaction fees\r\n",
        "            \r\n",
        "            'recipient': recipient,\r\n",
        "            'amount_receive': amount * 0.99995,\r\n",
        "        })\r\n",
        "\r\n",
        "        return self.last_block['index'] + 1\r\n",
        "        \r\n",
        "\r\n",
        "    @property\r\n",
        "    def last_block(self):\r\n",
        "        return self.chain[-1]\r\n",
        "\r\n",
        "\r\n",
        "    @staticmethod\r\n",
        "    def hash(block):\r\n",
        "        \"\"\"\r\n",
        "        Creates a SHA-256 hash of a Block\r\n",
        "        :param block: Block\r\n",
        "        \"\"\"\r\n",
        "\r\n",
        "        # We must make sure that the Dictionary is Ordered, or we'll have inconsistent hashes\r\n",
        "        block_string = json.dumps(block, sort_keys=True).encode()\r\n",
        "        return hashlib.sha256(block_string).hexdigest()"
      ],
      "execution_count": 14,
      "outputs": []
    },
    {
      "cell_type": "code",
      "metadata": {
        "id": "thotgG35TyGx"
      },
      "source": [
        "# Instantiate the Node\r\n",
        "app = Flask(__name__)\r\n",
        "\r\n",
        "# Instantiate the Smart_Blockchain\r\n",
        "blockchain = Smart_Blockchain()"
      ],
      "execution_count": 15,
      "outputs": []
    },
    {
      "cell_type": "code",
      "metadata": {
        "id": "ZthQsp5GT0PQ"
      },
      "source": [
        "@app.route('/mine', methods=['GET'])\r\n",
        "def mine():\r\n",
        "    last_block = blockchain.last_block\r\n",
        "\r\n",
        "    # Forge the new Block by adding it to the chain\r\n",
        "    previous_hash = blockchain.hash(last_block)\r\n",
        "    block = blockchain.new_block(previous_hash)\r\n",
        "\r\n",
        "    response = {\r\n",
        "        'message': \"New Block Forged\",\r\n",
        "        'index': block['index'],\r\n",
        "        'transactions': block['transactions'],\r\n",
        "        'previous_hash': block['previous_hash'],\r\n",
        "    }\r\n",
        "    return jsonify(response), 200\r\n",
        "\r\n",
        "\r\n",
        "@app.route('/transactions/new', methods=['POST'])\r\n",
        "def new_transaction():\r\n",
        "    values = request.get_json()\r\n",
        "\r\n",
        "    # Check that the required fields are in the POST'ed data\r\n",
        "    required = ['sender', 'amount', 'recipient']\r\n",
        "    if not all(k in values for k in required):\r\n",
        "        return 'Missing values', 400\r\n",
        "\r\n",
        "    # Create a new Transaction\r\n",
        "    index = blockchain.new_transaction(values['sender'], values['amount'], values['recipient'])\r\n",
        "    \r\n",
        "    response = {'message': f'Transaction will be added to Block {index}'}\r\n",
        "    return jsonify(response), 201\r\n",
        "\r\n",
        "\r\n",
        "@app.route('/chain', methods=['GET'])\r\n",
        "def full_chain():\r\n",
        "    response = {\r\n",
        "        'chain': blockchain.chain,\r\n",
        "        'length': len(blockchain.chain),\r\n",
        "    }\r\n",
        "    return jsonify(response), 200\r\n",
        "\r\n",
        "\r\n",
        "@app.route('/nodes/register', methods=['POST'])\r\n",
        "def register_nodes():\r\n",
        "    values = request.get_json()\r\n",
        "\r\n",
        "    nodes = values.get('nodes')\r\n",
        "    if nodes is None:\r\n",
        "        return \"Error: Please supply a valid list of nodes\", 400\r\n",
        "\r\n",
        "    for node in nodes:\r\n",
        "        blockchain.register_node(node)\r\n",
        "\r\n",
        "    response = {\r\n",
        "        'message': 'New nodes have been added',\r\n",
        "        'total_nodes': list(blockchain.nodes),\r\n",
        "    }\r\n",
        "    return jsonify(response), 201\r\n",
        "\r\n",
        "\r\n",
        "@app.route('/smart/chain', methods=['GET'])\r\n",
        "def smart_chain():\r\n",
        "    replaced = blockchain.smart_chain()\r\n",
        "\r\n",
        "    if replaced:    \r\n",
        "        response = {\r\n",
        "            'message': 'Smart chain update by bpsc',\r\n",
        "            'smart chain': blockchain.chain,\r\n",
        "            'length': len(blockchain.chain)\r\n",
        "        }\r\n",
        "    else:\r\n",
        "        response = {\r\n",
        "            'message': 'Unsuccessful: Please try again',\r\n",
        "            'old chain': blockchain.chain,\r\n",
        "            'length': len(blockchain.chain)            \r\n",
        "        }\r\n",
        "        \r\n",
        "    return jsonify(response), 200"
      ],
      "execution_count": 16,
      "outputs": []
    },
    {
      "cell_type": "code",
      "metadata": {
        "colab": {
          "base_uri": "https://localhost:8080/",
          "height": 180
        },
        "id": "n4oHpXqPT4B5",
        "outputId": "778dbd54-581c-49e9-a03b-4d26d17afc4a"
      },
      "source": [
        "if __name__ == '__main__':\r\n",
        "    from argparse import ArgumentParser\r\n",
        "\r\n",
        "    parser = ArgumentParser()\r\n",
        "    parser.add_argument('-p', '--port', default=5000, type=int, help='port to listen on')\r\n",
        "    args = parser.parse_args()\r\n",
        "    port = args.port\r\n",
        "\r\n",
        "    app.run(host='0.0.0.0', port=port)"
      ],
      "execution_count": 17,
      "outputs": [
        {
          "output_type": "stream",
          "text": [
            "usage: ipykernel_launcher.py [-h] [-p PORT]\n",
            "ipykernel_launcher.py: error: unrecognized arguments: -f /root/.local/share/jupyter/runtime/kernel-5cf49c1f-c75f-435b-849c-8de38120b48a.json\n"
          ],
          "name": "stderr"
        },
        {
          "output_type": "error",
          "ename": "SystemExit",
          "evalue": "ignored",
          "traceback": [
            "An exception has occurred, use %tb to see the full traceback.\n",
            "\u001b[0;31mSystemExit\u001b[0m\u001b[0;31m:\u001b[0m 2\n"
          ]
        },
        {
          "output_type": "stream",
          "text": [
            "/usr/local/lib/python3.6/dist-packages/IPython/core/interactiveshell.py:2890: UserWarning: To exit: use 'exit', 'quit', or Ctrl-D.\n",
            "  warn(\"To exit: use 'exit', 'quit', or Ctrl-D.\", stacklevel=1)\n"
          ],
          "name": "stderr"
        }
      ]
    }
  ]
}